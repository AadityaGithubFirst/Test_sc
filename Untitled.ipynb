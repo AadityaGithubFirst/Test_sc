{
 "cells": [
  {
   "cell_type": "code",
   "execution_count": 40,
   "id": "0fea8bee-b336-4152-b347-e05f099afa25",
   "metadata": {},
   "outputs": [],
   "source": [
    "from bs4 import BeautifulSoup\n",
    "import requests\n",
    "from time import sleep\n",
    "URL = \"https://flag.dol.gov/processingtimes\"\n",
    "page = requests.get(URL)"
   ]
  },
  {
   "cell_type": "code",
   "execution_count": 41,
   "id": "5bce1ad9-c1e7-4d60-81ab-bd48cc1149c7",
   "metadata": {},
   "outputs": [],
   "source": [
    "soup = BeautifulSoup(page.content, \"html.parser\")\n",
    "old_job_elements = soup.find(\"td\", class_=\"xl71\").text"
   ]
  },
  {
   "cell_type": "code",
   "execution_count": 42,
   "id": "5a0d6a33-2b28-4a4b-b087-652be21bb57f",
   "metadata": {},
   "outputs": [],
   "source": [
    "old_job_element = soup.find(\"td\", class_=\"xl72\").text"
   ]
  },
  {
   "cell_type": "code",
   "execution_count": 37,
   "id": "9be8eee1-642b-4cbd-a113-1979d4461ac8",
   "metadata": {},
   "outputs": [
    {
     "data": {
      "text/plain": [
       "'December 2022'"
      ]
     },
     "execution_count": 37,
     "metadata": {},
     "output_type": "execute_result"
    }
   ],
   "source": [
    "a"
   ]
  },
  {
   "cell_type": "code",
   "execution_count": 43,
   "id": "f25bf633-689b-409b-a878-d561bef65edd",
   "metadata": {},
   "outputs": [],
   "source": [
    "old_job_elemen = soup.find_all(\"td\", class_=\"xl72\")[1].text"
   ]
  },
  {
   "cell_type": "code",
   "execution_count": 45,
   "id": "98ac7536-5cf5-47c7-b864-2dd4862376c3",
   "metadata": {},
   "outputs": [
    {
     "name": "stdout",
     "output_type": "stream",
     "text": [
      "They have not changed\n",
      "They have not changed\n",
      "They have not changed\n",
      "They have not changed\n",
      "They have not changed\n"
     ]
    },
    {
     "ename": "KeyboardInterrupt",
     "evalue": "",
     "output_type": "error",
     "traceback": [
      "\u001b[1;31m---------------------------------------------------------------------------\u001b[0m",
      "\u001b[1;31mKeyboardInterrupt\u001b[0m                         Traceback (most recent call last)",
      "Cell \u001b[1;32mIn[45], line 8\u001b[0m\n\u001b[0;32m      6\u001b[0m \u001b[38;5;28;01mif\u001b[39;00m (old_job_elements\u001b[38;5;241m==\u001b[39mjob_elements) \u001b[38;5;129;01mand\u001b[39;00m (old_job_element\u001b[38;5;241m==\u001b[39mjob_element) \u001b[38;5;129;01mand\u001b[39;00m (old_job_elemen\u001b[38;5;241m==\u001b[39mjob_elemen):\n\u001b[0;32m      7\u001b[0m     \u001b[38;5;28mprint\u001b[39m(\u001b[38;5;124mf\u001b[39m\u001b[38;5;124m\"\u001b[39m\u001b[38;5;124mThey have not changed\u001b[39m\u001b[38;5;124m\"\u001b[39m)\n\u001b[1;32m----> 8\u001b[0m     sleep(\u001b[38;5;241m5\u001b[39m)\n\u001b[0;32m      9\u001b[0m \u001b[38;5;28;01melse\u001b[39;00m:\n\u001b[0;32m     10\u001b[0m     \u001b[38;5;28mprint\u001b[39m(\u001b[38;5;124m\"\u001b[39m\u001b[38;5;124mLook at https://flag.dol.gov/processingtimes the values of changed the website should be looked at.\u001b[39m\u001b[38;5;124m\"\u001b[39m)\n",
      "\u001b[1;31mKeyboardInterrupt\u001b[0m: "
     ]
    }
   ],
   "source": [
    "while True:\n",
    "    soup = BeautifulSoup(page.content, \"html.parser\")\n",
    "    job_elements = soup.find(\"td\", class_=\"xl71\").text\n",
    "    job_element = soup.find(\"td\", class_=\"xl72\").text\n",
    "    job_elemen = soup.find_all(\"td\", class_=\"xl72\")[1].text\n",
    "    if (old_job_elements==job_elements) and (old_job_element==job_element) and (old_job_elemen==job_elemen):\n",
    "        print(f\"They have not changed\")\n",
    "        sleep(3600*24)\n",
    "    else:\n",
    "        print(\"Look at https://flag.dol.gov/processingtimes the values of changed the website should be looked at.\")\n",
    "        print(f\"They are now Analyst Review = {job_elements}, Audit Review = {job_element}, Reconsideration Request to the CO = {job_elemen}\")\n",
    "        break    "
   ]
  }
 ],
 "metadata": {
  "kernelspec": {
   "display_name": "Python 3 (ipykernel)",
   "language": "python",
   "name": "python3"
  },
  "language_info": {
   "codemirror_mode": {
    "name": "ipython",
    "version": 3
   },
   "file_extension": ".py",
   "mimetype": "text/x-python",
   "name": "python",
   "nbconvert_exporter": "python",
   "pygments_lexer": "ipython3",
   "version": "3.12.4"
  }
 },
 "nbformat": 4,
 "nbformat_minor": 5
}
